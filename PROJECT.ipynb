{
 "cells": [
  {
   "cell_type": "markdown",
   "metadata": {},
   "source": [
    "# INTELLIGENT ALERT SYSTEM FOR FOREST TRIBAL PEOPLE USING IBM WATSON STUDIO"
   ]
  },
  {
   "cell_type": "code",
   "execution_count": 1,
   "metadata": {},
   "outputs": [],
   "source": [
    "from tensorflow.keras.models import Sequential\n",
    "from tensorflow.keras.layers import Dense\n",
    "from tensorflow.keras.layers import Convolution2D\n",
    "from tensorflow.keras.layers import MaxPooling2D\n",
    "from tensorflow.keras.layers import Flatten"
   ]
  },
  {
   "cell_type": "code",
   "execution_count": 2,
   "metadata": {},
   "outputs": [
    {
     "name": "stderr",
     "output_type": "stream",
     "text": [
      "Using TensorFlow backend.\n"
     ]
    }
   ],
   "source": [
    "from keras.preprocessing.image import ImageDataGenerator\n",
    "train_datagen =  ImageDataGenerator(rescale = 1./255,shear_range = 0.2,zoom_range = 0.2,horizontal_flip = True)\n",
    "test_datagen =  ImageDataGenerator(rescale = 1./255)"
   ]
  },
  {
   "cell_type": "code",
   "execution_count": 3,
   "metadata": {},
   "outputs": [
    {
     "name": "stdout",
     "output_type": "stream",
     "text": [
      "Found 993 images belonging to 3 classes.\n",
      "Found 353 images belonging to 3 classes.\n"
     ]
    }
   ],
   "source": [
    "x_train = train_datagen.flow_from_directory(r\"C:\\Users\\sai jyothi\\OneDrive\\Documents\\dataset\\dataset\\train_set\",target_size = (64,64),batch_size = 32, class_mode =\"categorical\")\n",
    "x_test = test_datagen.flow_from_directory(r\"C:\\Users\\sai jyothi\\OneDrive\\Documents\\dataset\\dataset\\test_set\",target_size = (64,64),batch_size = 32, class_mode =\"categorical\")"
   ]
  },
  {
   "cell_type": "code",
   "execution_count": 4,
   "metadata": {},
   "outputs": [],
   "source": [
    "model = Sequential()"
   ]
  },
  {
   "cell_type": "code",
   "execution_count": 5,
   "metadata": {},
   "outputs": [
    {
     "name": "stdout",
     "output_type": "stream",
     "text": [
      "WARNING:tensorflow:From C:\\Users\\sai jyothi\\Anaconda3\\lib\\site-packages\\tensorflow\\python\\ops\\init_ops.py:1251: calling VarianceScaling.__init__ (from tensorflow.python.ops.init_ops) with dtype is deprecated and will be removed in a future version.\n",
      "Instructions for updating:\n",
      "Call initializer instance with the dtype argument instead of passing it to the constructor\n"
     ]
    }
   ],
   "source": [
    "model.add(Convolution2D(32,(3,3) ,input_shape = (64,64,3),activation = \"relu\"))"
   ]
  },
  {
   "cell_type": "code",
   "execution_count": 6,
   "metadata": {},
   "outputs": [],
   "source": [
    "model.add(MaxPooling2D((2,2)))"
   ]
  },
  {
   "cell_type": "code",
   "execution_count": 7,
   "metadata": {},
   "outputs": [],
   "source": [
    "model.add(Flatten())"
   ]
  },
  {
   "cell_type": "code",
   "execution_count": 8,
   "metadata": {},
   "outputs": [
    {
     "name": "stdout",
     "output_type": "stream",
     "text": [
      "WARNING:tensorflow:From C:\\Users\\sai jyothi\\Anaconda3\\lib\\site-packages\\tensorflow\\python\\keras\\initializers.py:119: calling RandomUniform.__init__ (from tensorflow.python.ops.init_ops) with dtype is deprecated and will be removed in a future version.\n",
      "Instructions for updating:\n",
      "Call initializer instance with the dtype argument instead of passing it to the constructor\n"
     ]
    }
   ],
   "source": [
    "model.add(Dense(kernel_initializer = \"uniform\",activation = \"relu\",units=300))"
   ]
  },
  {
   "cell_type": "code",
   "execution_count": 9,
   "metadata": {},
   "outputs": [],
   "source": [
    "model.add(Dense(kernel_initializer = \"uniform\",activation = \"relu\",units=100))"
   ]
  },
  {
   "cell_type": "code",
   "execution_count": 10,
   "metadata": {},
   "outputs": [],
   "source": [
    "model.add(Dense(kernel_initializer= \"uniform\",activation = \"relu\",units=60))"
   ]
  },
  {
   "cell_type": "code",
   "execution_count": 11,
   "metadata": {},
   "outputs": [],
   "source": [
    "model.add(Dense(kernel_initializer = \"uniform\",activation = \"softmax\",units = 3,))"
   ]
  },
  {
   "cell_type": "code",
   "execution_count": 12,
   "metadata": {},
   "outputs": [],
   "source": [
    "model.compile(loss = \"categorical_crossentropy\",optimizer='adam',metrics = [\"accuracy\"])"
   ]
  },
  {
   "cell_type": "code",
   "execution_count": 13,
   "metadata": {},
   "outputs": [
    {
     "name": "stdout",
     "output_type": "stream",
     "text": [
      "Epoch 1/15\n",
      "31/31 [==============================] - 6s 193ms/step - loss: 1.0849 - acc: 0.3476 - val_loss: 1.1084 - val_acc: 0.4006\n",
      "Epoch 2/15\n",
      "31/31 [==============================] - 5s 166ms/step - loss: 1.0780 - acc: 0.3992 - val_loss: 0.9657 - val_acc: 0.4801\n",
      "Epoch 3/15\n",
      "31/31 [==============================] - 5s 177ms/step - loss: 1.1170 - acc: 0.3559 - val_loss: 1.0699 - val_acc: 0.4545\n",
      "Epoch 4/15\n",
      "31/31 [==============================] - 5s 164ms/step - loss: 1.0694 - acc: 0.4495 - val_loss: 1.0861 - val_acc: 0.4545\n",
      "Epoch 5/15\n",
      "31/31 [==============================] - 5s 159ms/step - loss: 1.0569 - acc: 0.4256 - val_loss: 0.9299 - val_acc: 0.4574\n",
      "Epoch 6/15\n",
      "31/31 [==============================] - 5s 173ms/step - loss: 1.0082 - acc: 0.5026 - val_loss: 0.8875 - val_acc: 0.5284\n",
      "Epoch 7/15\n",
      "31/31 [==============================] - 5s 162ms/step - loss: 0.8466 - acc: 0.5973 - val_loss: 0.8692 - val_acc: 0.5597\n",
      "Epoch 8/15\n",
      "31/31 [==============================] - 5s 155ms/step - loss: 0.8586 - acc: 0.5817 - val_loss: 0.8059 - val_acc: 0.6023\n",
      "Epoch 9/15\n",
      "31/31 [==============================] - 5s 160ms/step - loss: 0.6673 - acc: 0.6764 - val_loss: 0.7380 - val_acc: 0.6960\n",
      "Epoch 10/15\n",
      "31/31 [==============================] - 5s 166ms/step - loss: 0.7493 - acc: 0.6566 - val_loss: 0.8051 - val_acc: 0.6477\n",
      "Epoch 11/15\n",
      "31/31 [==============================] - 5s 165ms/step - loss: 0.6230 - acc: 0.7294 - val_loss: 0.8557 - val_acc: 0.6676\n",
      "Epoch 12/15\n",
      "31/31 [==============================] - 5s 165ms/step - loss: 0.5888 - acc: 0.7242 - val_loss: 0.8123 - val_acc: 0.6932\n",
      "Epoch 13/15\n",
      "31/31 [==============================] - 5s 153ms/step - loss: 0.5110 - acc: 0.7661 - val_loss: 0.9149 - val_acc: 0.6705\n",
      "Epoch 14/15\n",
      "31/31 [==============================] - 4s 142ms/step - loss: 0.7505 - acc: 0.7180 - val_loss: 0.8096 - val_acc: 0.6648\n",
      "Epoch 15/15\n",
      "31/31 [==============================] - 5s 169ms/step - loss: 0.5342 - acc: 0.7867 - val_loss: 0.9283 - val_acc: 0.6676\n"
     ]
    },
    {
     "data": {
      "text/plain": [
       "<tensorflow.python.keras.callbacks.History at 0x1cf7ed11358>"
      ]
     },
     "execution_count": 13,
     "metadata": {},
     "output_type": "execute_result"
    }
   ],
   "source": [
    "model.fit_generator(x_train ,steps_per_epoch = 31 ,epochs =15 ,validation_data= x_test , validation_steps = 11)"
   ]
  },
  {
   "cell_type": "code",
   "execution_count": 14,
   "metadata": {},
   "outputs": [],
   "source": [
    "model.save('animal.h5')"
   ]
  },
  {
   "cell_type": "code",
   "execution_count": 15,
   "metadata": {},
   "outputs": [],
   "source": [
    "from tensorflow.keras.models import load_model\n",
    "from tensorflow.keras.preprocessing import image\n",
    "import numpy as np"
   ]
  },
  {
   "cell_type": "code",
   "execution_count": 16,
   "metadata": {},
   "outputs": [],
   "source": [
    "index =['domestic','Human','wild']"
   ]
  },
  {
   "cell_type": "code",
   "execution_count": 17,
   "metadata": {},
   "outputs": [
    {
     "name": "stdout",
     "output_type": "stream",
     "text": [
      "WARNING:tensorflow:From C:\\Users\\sai jyothi\\Anaconda3\\lib\\site-packages\\tensorflow\\python\\ops\\init_ops.py:97: calling GlorotUniform.__init__ (from tensorflow.python.ops.init_ops) with dtype is deprecated and will be removed in a future version.\n",
      "Instructions for updating:\n",
      "Call initializer instance with the dtype argument instead of passing it to the constructor\n",
      "WARNING:tensorflow:From C:\\Users\\sai jyothi\\Anaconda3\\lib\\site-packages\\tensorflow\\python\\ops\\init_ops.py:97: calling Zeros.__init__ (from tensorflow.python.ops.init_ops) with dtype is deprecated and will be removed in a future version.\n",
      "Instructions for updating:\n",
      "Call initializer instance with the dtype argument instead of passing it to the constructor\n"
     ]
    }
   ],
   "source": [
    "model = load_model(\"animal.h5\")"
   ]
  },
  {
   "cell_type": "code",
   "execution_count": 18,
   "metadata": {},
   "outputs": [],
   "source": [
    "img = image.load_img(r\"D:\\gcet externship\\tiger1.jpg\",target_size = (64,64))"
   ]
  },
  {
   "cell_type": "code",
   "execution_count": 19,
   "metadata": {},
   "outputs": [
    {
     "data": {
      "text/plain": [
       "PIL.Image.Image"
      ]
     },
     "execution_count": 19,
     "metadata": {},
     "output_type": "execute_result"
    }
   ],
   "source": [
    "type(img)"
   ]
  },
  {
   "cell_type": "code",
   "execution_count": 20,
   "metadata": {},
   "outputs": [],
   "source": [
    "x = image.img_to_array(img)"
   ]
  },
  {
   "cell_type": "code",
   "execution_count": 21,
   "metadata": {},
   "outputs": [
    {
     "data": {
      "text/plain": [
       "numpy.ndarray"
      ]
     },
     "execution_count": 21,
     "metadata": {},
     "output_type": "execute_result"
    }
   ],
   "source": [
    "type(x)"
   ]
  },
  {
   "cell_type": "code",
   "execution_count": 22,
   "metadata": {},
   "outputs": [
    {
     "data": {
      "text/plain": [
       "(64, 64, 3)"
      ]
     },
     "execution_count": 22,
     "metadata": {},
     "output_type": "execute_result"
    }
   ],
   "source": [
    "x.shape"
   ]
  },
  {
   "cell_type": "code",
   "execution_count": 23,
   "metadata": {},
   "outputs": [
    {
     "data": {
      "text/plain": [
       "(1, 64, 64, 3)"
      ]
     },
     "execution_count": 23,
     "metadata": {},
     "output_type": "execute_result"
    }
   ],
   "source": [
    "x = np.expand_dims(x,axis=0)\n",
    "x.shape"
   ]
  },
  {
   "cell_type": "code",
   "execution_count": 24,
   "metadata": {},
   "outputs": [],
   "source": [
    "pred = model.predict_classes(x) "
   ]
  },
  {
   "cell_type": "code",
   "execution_count": 25,
   "metadata": {},
   "outputs": [
    {
     "data": {
      "text/plain": [
       "array([0], dtype=int64)"
      ]
     },
     "execution_count": 25,
     "metadata": {},
     "output_type": "execute_result"
    }
   ],
   "source": [
    "pred"
   ]
  },
  {
   "cell_type": "code",
   "execution_count": 26,
   "metadata": {},
   "outputs": [
    {
     "name": "stdout",
     "output_type": "stream",
     "text": [
      "domestic\n"
     ]
    }
   ],
   "source": [
    "print(index[pred[0]])"
   ]
  },
  {
   "cell_type": "code",
   "execution_count": 29,
   "metadata": {},
   "outputs": [],
   "source": [
    "import cv2   \n",
    "import numpy as np\n",
    "from tensorflow.keras.models import load_model\n",
    "from tensorflow.keras.preprocessing import image\n",
    "from twilio.rest import Client\n",
    "model=load_model(\"animal.h5\")\n",
    "video=cv2.VideoCapture(0)\n",
    "index=['domestic','Human','wild']\n",
    "while(1):\n",
    "  success,frame=video.read()\n",
    "  cv2.imwrite(\"image.jpg\",frame)\n",
    "  img=image.load_img(\"image.jpg\",target_size=(64,64))\n",
    "  x=image.img_to_array(img)\n",
    "  x=np.expand_dims(x,axis=0)\n",
    "  pred=model.predict_classes(x)\n",
    "  p=pred[0]\n",
    "  cv2.putText(frame,\"predicted class is \"+str(index[p]),(100,100),cv2.FONT_HERSHEY_SIMPLEX,1,(0,0,0),4)\n",
    "  cv2.imshow(\"showcasewindow\",frame)\n",
    "  account_sid='ACcba48778e7548916f4c2d6c9d6714144'\n",
    "  auth_token='2bf4593faf1e198a0f0f895ab7b8ba29'\n",
    "  client=Client(account_sid,auth_token) \n",
    "  if p>=1:\n",
    "    message = client.messages.create(\n",
    "        to=\"+918688644730\",\n",
    "        from_=\"+12673564049\",\n",
    "        body=\"safe\"\n",
    "        )\n",
    "  if p==2:\n",
    "    message = client.messages.create(\n",
    "        to=\"+918688644730\",\n",
    "        from_=\"+12673564049\",\n",
    "        body=\"Danger!! wild animal is detected, stay alert\"   \n",
    "        )\n",
    "  if cv2.waitKey(1) & 0xFF == ord('s'):\n",
    "    break\n",
    "video.release()\n",
    "cv2.destroyAllWindows()"
   ]
  },
  {
   "cell_type": "code",
   "execution_count": null,
   "metadata": {},
   "outputs": [],
   "source": []
  }
 ],
 "metadata": {
  "kernelspec": {
   "display_name": "Python 3",
   "language": "python",
   "name": "python3"
  },
  "language_info": {
   "codemirror_mode": {
    "name": "ipython",
    "version": 3
   },
   "file_extension": ".py",
   "mimetype": "text/x-python",
   "name": "python",
   "nbconvert_exporter": "python",
   "pygments_lexer": "ipython3",
   "version": "3.7.3"
  }
 },
 "nbformat": 4,
 "nbformat_minor": 2
}
